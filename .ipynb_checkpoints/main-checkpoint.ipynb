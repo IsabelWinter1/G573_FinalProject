{
 "cells": [
  {
   "cell_type": "code",
   "execution_count": null,
   "metadata": {},
   "outputs": [],
   "source": [
    "#Coded by Zoey Colglazier, Vincent Cunningham, and Isabel Winter in April 2020."
   ]
  },
  {
   "cell_type": "code",
   "execution_count": null,
   "metadata": {},
   "outputs": [],
   "source": [
    "#Section 1: web-scraping\n",
    "#A: Google API information\n",
    "#B: Webscraper class\n",
    "#C: method to get shows\n",
    "#D: method to save shows to csv\n",
    "#E: method to get show venue, geocode data"
   ]
  },
  {
   "cell_type": "code",
   "execution_count": null,
   "metadata": {},
   "outputs": [],
   "source": [
    "#Section 2: Point in polygon\n",
    "#A: Define bounding box around campus\n",
    "#B: Check if venues are within box.\n",
    "#C: Save shows at those venues to csv."
   ]
  },
  {
   "cell_type": "code",
   "execution_count": null,
   "metadata": {},
   "outputs": [],
   "source": [
    "#Section 3: Network connectivity/shortest route.\n",
    "#A: Shortest route to Science Hall for each venue (walking and driving)\n",
    "#B: Which venue has the shortest route?"
   ]
  }
 ],
 "metadata": {
  "kernelspec": {
   "display_name": "Python 3",
   "language": "python",
   "name": "python3"
  },
  "language_info": {
   "codemirror_mode": {
    "name": "ipython",
    "version": 3
   },
   "file_extension": ".py",
   "mimetype": "text/x-python",
   "name": "python",
   "nbconvert_exporter": "python",
   "pygments_lexer": "ipython3",
   "version": "3.7.4"
  }
 },
 "nbformat": 4,
 "nbformat_minor": 4
}
